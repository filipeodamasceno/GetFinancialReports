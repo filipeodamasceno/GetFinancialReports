{
 "cells": [
  {
   "cell_type": "code",
   "execution_count": 2,
   "id": "54a49a8f",
   "metadata": {
    "scrolled": true
   },
   "outputs": [
    {
     "name": "stdout",
     "output_type": "stream",
     "text": [
      "Requirement already satisfied: wget in c:\\python\\lib\\site-packages (3.2)\n",
      "100% [............................................................................] 279942 / 279942"
     ]
    },
    {
     "ename": "NameError",
     "evalue": "name 'K' is not defined",
     "output_type": "error",
     "traceback": [
      "\u001b[1;31m---------------------------------------------------------------------------\u001b[0m",
      "\u001b[1;31mNameError\u001b[0m                                 Traceback (most recent call last)",
      "Cell \u001b[1;32mIn[2], line 52\u001b[0m\n\u001b[0;32m     49\u001b[0m \u001b[38;5;28;01mfor\u001b[39;00m i \u001b[38;5;129;01min\u001b[39;00m Tipo_rel:\n\u001b[0;32m     51\u001b[0m     GetData(URLs[\u001b[38;5;28mint\u001b[39m(k)], Tipo_rel[\u001b[38;5;28mint\u001b[39m(k)])\n\u001b[1;32m---> 52\u001b[0m     k \u001b[38;5;241m=\u001b[39m \u001b[43mK\u001b[49m\u001b[38;5;241m+\u001b[39m\u001b[38;5;241m1\u001b[39m\n\u001b[0;32m     54\u001b[0m \u001b[38;5;28;01mdef\u001b[39;00m \u001b[38;5;21mJoinData\u001b[39m ():\n\u001b[0;32m     56\u001b[0m     \u001b[38;5;28;01mfor\u001b[39;00m nome \u001b[38;5;129;01min\u001b[39;00m nomes:\n",
      "\u001b[1;31mNameError\u001b[0m: name 'K' is not defined"
     ]
    }
   ],
   "source": [
    "\"\"\"\n",
    "\n",
    "Esse código tem o objetivo de buscar os dados dos relatórios contábeis das\n",
    "companhias da bolsa de valores do Brasil fornceidos pelo site de dados da CVM.\n",
    "\n",
    "Para as ITRs: https://dados.cvm.gov.br/dados/CIA_ABERTA/DOC/ITR/DADOS/\n",
    "Para as DFPs: https://dados.cvm.gov.br/dados/CIA_ABERTA/DOC/DFP/DADOS/\n",
    "\n",
    "\"\"\"\n",
    "\n",
    "!pip install wget\n",
    "\n",
    "import pandas as pd\n",
    "import wget\n",
    "from zipfile import ZipFile\n",
    " \n",
    "url_itr = f'https://dados.cvm.gov.br/dados/CIA_ABERTA/DOC/ITR/DADOS/'\n",
    "url_dfp = f'https://dados.cvm.gov.br/dados/CIA_ABERTA/DOC/DFP/DADOS/'\n",
    "\n",
    "ano_inicio = 2011\n",
    "ano_fim = 2022\n",
    "\n",
    "rg = range(ano_inicio,ano_fim + 1)\n",
    "\n",
    "Tipo_rel = ['ITR','DFP']\n",
    "URLs = [url_itr,url_dfp]\n",
    "nomes = ['BPA_con','BPA_ind','BPP_con','BPP_ind','DFC_MD_con','DFC_MD_ind','DFC_MI_con','DFC_MI_ind','DMPL_con','DMPL_ind','DRA_con','DRA_ind','DRE_con','DRE_ind','DVA_con','DVA_ind']\n",
    "\n",
    "def GetData (URL_CVM, TipoRel):\n",
    "    \n",
    "    arquivos_zip = []\n",
    "    \n",
    "    for ano in rg:\n",
    "        arquivos_zip.append(f'{TipoRel.lower()}_cia_aberta_{ano}.zip')\n",
    "       \n",
    "    for arq in arquivos_zip:\n",
    "        wget.download(URL_CVM + arq)\n",
    "            \n",
    "    for arq in arquivos_zip:\n",
    "        ZipFile(arq, 'r').extractall(f'CVM_{TipoRel}')\n",
    "    \n",
    "    for nome in nomes:\n",
    "        arquivo = pd.DataFrame()\n",
    "        for ano in rg:\n",
    "            arquivo = pd.concat([arquivo, pd.read_csv(f'CVM_{TipoRel}/{TipoRel.lower()}_cia_aberta_{nome}_{ano}.csv', sep=';', decimal='.', encoding='ISO-8859-1')])\n",
    "        arquivo.to_csv(f'DadosCVM/{TipoRel.lower()}_cia_aberta_{nome}_{ano_inicio}-{ano_fim}.csv', index=False)\n",
    "\n",
    "k = 1\n",
    "for i in Tipo_rel:\n",
    "    \n",
    "    GetData(URLs[int(k)], Tipo_rel[int(k)])\n",
    "    k = k+1\n",
    "    \n",
    "def JoinData ():\n",
    "    \n",
    "    for nome in nomes:\n",
    "        arquivo = pd.DataFrame()\n",
    "\n",
    "        for i in range(2):\n",
    "            arquivo = pd.concat([arquivo, pd.read_csv(f'DadosCVM/{Tipo_rel[i].lower()}_cia_aberta_{nome}_{ano_inicio}-{ano_fim}.csv', sep=',', decimal='.', encoding='UTF-8')])\n",
    "        arquivo.to_csv(f'Datasets/Relatorio_cia_aberta_{nome}_{ano_inicio}-{ano_fim}.csv', index=False)\n",
    "\n",
    "JoinData()\n",
    "\n",
    "\n",
    "def FilterData ():\n",
    "    \n",
    "    for nome in nomes:\n",
    "        arquivo = pd.DataFrame()\n",
    "        \n",
    "        if nome=='BPA_con' or nome=='BPA_ind' or nome=='BPP_con' or nome=='BPP_ind':\n",
    "            \n",
    "            arquivo = pd.read_csv(f'Datasets/Relatorio_cia_aberta_{nome}_{ano_inicio}-{ano_fim}.csv', sep=',')\n",
    "        \n",
    "            arquivo = arquivo[arquivo['ORDEM_EXERC'] == 'ÚLTIMO']\n",
    "        \n",
    "            arquivo.to_csv(f'DatasetsFiltrados/Relatorio_cia_aberta_{nome}_{ano_inicio}-{ano_fim}_Filtrado.csv', index=False)\n",
    "            \n",
    "        else:\n",
    "            arquivo = pd.read_csv(f'Datasets/Relatorio_cia_aberta_{nome}_{ano_inicio}-{ano_fim}.csv', sep=',')\n",
    "            \n",
    "            arquivo = arquivo[arquivo['ORDEM_EXERC'] == 'ÚLTIMO']\n",
    "            arquivo = arquivo[arquivo['DT_INI_EXERC'].str.contains('-01-01')]\n",
    "            \n",
    "            arquivo.to_csv(f'DatasetsFiltrados/Relatorio_cia_aberta_{nome}_{ano_inicio}-{ano_fim}_Filtrado.csv', index=False)\n",
    "            \n",
    "FilterData()"
   ]
  },
  {
   "cell_type": "code",
   "execution_count": 3,
   "id": "81d93a6f",
   "metadata": {},
   "outputs": [
    {
     "name": "stdout",
     "output_type": "stream",
     "text": [
      "Requirement already satisfied: wget in c:\\python\\lib\\site-packages (3.2)\n"
     ]
    }
   ],
   "source": [
    "\"\"\"\n",
    "\n",
    "Esse código tem o objetivo de buscar os dados dos relatórios contábeis das\n",
    "companhias da bolsa de valores do Brasil fornceidos pelo site de dados da CVM.\n",
    "\n",
    "Para as ITRs: https://dados.cvm.gov.br/dados/CIA_ABERTA/DOC/ITR/DADOS/\n",
    "Para as DFPs: https://dados.cvm.gov.br/dados/CIA_ABERTA/DOC/DFP/DADOS/\n",
    "\n",
    "\"\"\"\n",
    "\n",
    "!pip install wget\n",
    "\n",
    "import pandas as pd\n",
    "import wget\n",
    "from zipfile import ZipFile\n",
    " \n",
    "url_itr = f'https://dados.cvm.gov.br/dados/CIA_ABERTA/DOC/ITR/DADOS/'\n",
    "url_dfp = f'https://dados.cvm.gov.br/dados/CIA_ABERTA/DOC/DFP/DADOS/'\n",
    "\n",
    "ano_inicio = 2011\n",
    "ano_fim = 2022\n",
    "\n",
    "rg = range(ano_inicio,ano_fim + 1)\n",
    "\n",
    "Tipo_rel = ['ITR','DFP']\n",
    "URLs = [url_itr,url_dfp]\n",
    "nomes = ['BPA_con','BPA_ind','BPP_con','BPP_ind','DFC_MD_con','DFC_MD_ind','DFC_MI_con','DFC_MI_ind','DMPL_con','DMPL_ind','DRA_con','DRA_ind','DRE_con','DRE_ind','DVA_con','DVA_ind']\n"
   ]
  },
  {
   "cell_type": "code",
   "execution_count": 5,
   "id": "cc66e534",
   "metadata": {},
   "outputs": [
    {
     "name": "stdout",
     "output_type": "stream",
     "text": [
      "100% [............................................................................] 279942 / 279942"
     ]
    }
   ],
   "source": [
    "def GetData (URL_CVM, TipoRel):\n",
    "    \n",
    "    arquivos_zip = []\n",
    "    \n",
    "    for ano in rg:\n",
    "        arquivos_zip.append(f'{TipoRel.lower()}_cia_aberta_{ano}.zip')\n",
    "       \n",
    "    for arq in arquivos_zip:\n",
    "        wget.download(URL_CVM + arq)\n",
    "            \n",
    "    for arq in arquivos_zip:\n",
    "        ZipFile(arq, 'r').extractall(f'CVM_{TipoRel}')\n",
    "    \n",
    "    for nome in nomes:\n",
    "        arquivo = pd.DataFrame()\n",
    "        for ano in rg:\n",
    "            arquivo = pd.concat([arquivo, pd.read_csv(f'CVM_{TipoRel}/{TipoRel.lower()}_cia_aberta_{nome}_{ano}.csv', sep=';', decimal='.', encoding='ISO-8859-1')])\n",
    "        arquivo.to_csv(f'DadosCVM/{TipoRel.lower()}_cia_aberta_{nome}_{ano_inicio}-{ano_fim}.csv', index=False)\n",
    "\n",
    "k = 0\n",
    "for i in Tipo_rel:\n",
    "    \n",
    "    GetData(URLs[int(k)], Tipo_rel[int(k)])\n",
    "    k = k+1\n"
   ]
  },
  {
   "cell_type": "code",
   "execution_count": 6,
   "id": "0851760a",
   "metadata": {},
   "outputs": [],
   "source": [
    "def JoinData ():\n",
    "    \n",
    "    for nome in nomes:\n",
    "        arquivo = pd.DataFrame()\n",
    "\n",
    "        for i in range(2):\n",
    "            arquivo = pd.concat([arquivo, pd.read_csv(f'DadosCVM/{Tipo_rel[i].lower()}_cia_aberta_{nome}_{ano_inicio}-{ano_fim}.csv', sep=',', decimal='.', encoding='UTF-8')])\n",
    "        arquivo.to_csv(f'Datasets/Relatorio_cia_aberta_{nome}_{ano_inicio}-{ano_fim}.csv', index=False)\n",
    "\n",
    "JoinData()"
   ]
  },
  {
   "cell_type": "code",
   "execution_count": 7,
   "id": "2fed9893",
   "metadata": {},
   "outputs": [],
   "source": [
    "def FilterData ():\n",
    "    \n",
    "    for nome in nomes:\n",
    "        arquivo = pd.DataFrame()\n",
    "        \n",
    "        if nome=='BPA_con' or nome=='BPA_ind' or nome=='BPP_con' or nome=='BPP_ind':\n",
    "            \n",
    "            arquivo = pd.read_csv(f'Datasets/Relatorio_cia_aberta_{nome}_{ano_inicio}-{ano_fim}.csv', sep=',')\n",
    "        \n",
    "            arquivo = arquivo[arquivo['ORDEM_EXERC'] == 'ÚLTIMO']\n",
    "        \n",
    "            arquivo.to_csv(f'DatasetsFiltrados/Relatorio_cia_aberta_{nome}_{ano_inicio}-{ano_fim}_Filtrado.csv', index=False)\n",
    "            \n",
    "        else:\n",
    "            arquivo = pd.read_csv(f'Datasets/Relatorio_cia_aberta_{nome}_{ano_inicio}-{ano_fim}.csv', sep=',')\n",
    "            \n",
    "            arquivo = arquivo[arquivo['ORDEM_EXERC'] == 'ÚLTIMO']\n",
    "            arquivo = arquivo[arquivo['DT_INI_EXERC'].str.contains('-01-01')]\n",
    "            \n",
    "            arquivo.to_csv(f'DatasetsFiltrados/Relatorio_cia_aberta_{nome}_{ano_inicio}-{ano_fim}_Filtrado.csv', index=False)\n",
    "            \n",
    "FilterData()"
   ]
  },
  {
   "cell_type": "code",
   "execution_count": null,
   "id": "9a6b9303",
   "metadata": {},
   "outputs": [],
   "source": []
  }
 ],
 "metadata": {
  "kernelspec": {
   "display_name": "Python 3 (ipykernel)",
   "language": "python",
   "name": "python3"
  },
  "language_info": {
   "codemirror_mode": {
    "name": "ipython",
    "version": 3
   },
   "file_extension": ".py",
   "mimetype": "text/x-python",
   "name": "python",
   "nbconvert_exporter": "python",
   "pygments_lexer": "ipython3",
   "version": "3.11.1"
  }
 },
 "nbformat": 4,
 "nbformat_minor": 5
}
